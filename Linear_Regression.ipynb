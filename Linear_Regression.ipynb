{
  "nbformat": 4,
  "nbformat_minor": 0,
  "metadata": {
    "colab": {
      "name": "Welcome To Colaboratory",
      "provenance": [],
      "collapsed_sections": [],
      "toc_visible": true,
      "include_colab_link": true
    },
    "kernelspec": {
      "display_name": "Python 3",
      "name": "python3"
    }
  },
  "cells": [
    {
      "cell_type": "markdown",
      "metadata": {
        "id": "view-in-github",
        "colab_type": "text"
      },
      "source": [
        "<a href=\"https://colab.research.google.com/github/Srikarthikeyan4006/Artificial_Intelligence/blob/master/Linear_Regression.ipynb\" target=\"_parent\"><img src=\"https://colab.research.google.com/assets/colab-badge.svg\" alt=\"Open In Colab\"/></a>"
      ]
    },
    {
      "cell_type": "markdown",
      "metadata": {
        "colab_type": "text",
        "id": "5fCEDCU_qrC0"
      },
      "source": [
        "<p><img alt=\"Colaboratory logo\" height=\"45px\" src=\"/img/colab_favicon.ico\" align=\"left\" hspace=\"10px\" vspace=\"0px\"></p>\n",
        "\n",
        "<h1>What is Colaboratory?</h1>\n",
        "\n",
        "Colaboratory, or \"Colab\" for short, allows you to write and execute Python in your browser, with \n",
        "- Zero configuration required\n",
        "- Free access to GPUs\n",
        "- Easy sharing\n",
        "\n",
        "Whether you're a **student**, a **data scientist** or an **AI researcher**, Colab can make your work easier. Watch [Introduction to Colab](https://www.youtube.com/watch?v=inN8seMm7UI) to learn more, or just get started below!"
      ]
    },
    {
      "cell_type": "markdown",
      "metadata": {
        "colab_type": "text",
        "id": "GJBs_flRovLc"
      },
      "source": [
        "## **Getting started**\n",
        "\n",
        "The document you are reading is not a static web page, but an interactive environment called a **Colab notebook** that lets you write and execute code.\n",
        "\n",
        "For example, here is a **code cell** with a short Python script that computes a value, stores it in a variable, and prints the result:"
      ]
    },
    {
      "cell_type": "markdown",
      "metadata": {
        "colab_type": "text",
        "id": "OwuxHmxllTwN"
      },
      "source": [
        "## Machine learning\n",
        "\n",
        "With Colab you can import an image dataset, train an image classifier on it, and evaluate the model, all in just [a few lines of code](https://colab.research.google.com/github/tensorflow/docs/blob/master/site/en/tutorials/quickstart/beginner.ipynb). Colab notebooks execute code on Google's cloud servers, meaning you can leverage the power of Google hardware, including [GPUs and TPUs](#using-accelerated-hardware), regardless of the power of your machine. All you need is a browser."
      ]
    },
    {
      "cell_type": "code",
      "metadata": {
        "id": "LZQUwSuV0CWo",
        "colab_type": "code",
        "colab": {
          "base_uri": "https://localhost:8080/",
          "height": 118
        },
        "outputId": "ced2d10e-7a4f-4009-fe88-b8a792fa4411"
      },
      "source": [
        "import numpy as np\n",
        "import matplotlib.pyplot as plt\n",
        "\n",
        "# Input and Output data\n",
        "x = np.array([-40, -10,  0,  8, 15, 22],  dtype=float)\n",
        "y = np.array([-40,  14, 32, 46, 59, 72],  dtype=float)\n",
        "\n",
        "# Define error function\n",
        "def error(y_hat):\n",
        "  return np.mean(np.square(y-y_hat)) # Means Squared Error b/w Actual and Predicted Output\n",
        "\n",
        "# Hyperparameters\n",
        "m = 1\n",
        "c = 5\n",
        "learning_rate = 0.001 # The learning Rate\n",
        "epochs = 3000 # The number of iterations to perform gradient descent\n",
        "\n",
        "n = len(x)\n",
        "error_vals = []\n",
        "\n",
        "# Performing Gradient Descent\n",
        "for i in range(epochs):\n",
        "  # Forward propagation (basically multiplication)\n",
        "  y_hat = m*x + c # The current predicted value of Y\n",
        "\n",
        "  # Calculate Mean Squared Error\n",
        "  error_vals.append(error(y_hat))\n",
        "\n",
        "  # Find the Gradients\n",
        "  de_dm = (-2/n) * np.sum(x * (y - y_hat)) # Derivative of error function wrt m\n",
        "  de_dc = (-2/n) * np.sum(y - y_hat) # Derivative of error function wrt c\n",
        "\n",
        "  # Back propagation (update the weights)\n",
        "  m = m - (de_dm * learning_rate)\n",
        "  c = c - (de_dc * learning_rate)\n",
        "\n",
        "# Now check the slope and intercept value\n",
        "print(c) # 31.934677394134408\n",
        "print(m) # 1.8021320545942183\n",
        "\n",
        "# Predict\n",
        "print(m * 38 + c) # 100.4156954687147\n",
        "\n",
        "# Predicted values and Actual Values\n",
        "y_hat = m*x + c\n",
        "print(y_hat) # Predictions\n",
        "print(error(y_hat)) # 0.05572622807250253"
      ],
      "execution_count": 4,
      "outputs": [
        {
          "output_type": "stream",
          "text": [
            "31.934677394134408\n",
            "1.8021320545942183\n",
            "100.4156954687147\n",
            "[-40.15060479  13.91335685  31.93467739  46.35173383  58.96665821\n",
            "  71.5815826 ]\n",
            "0.05572622807250253\n"
          ],
          "name": "stdout"
        }
      ]
    },
    {
      "cell_type": "code",
      "metadata": {
        "id": "dkQGso8S0JyJ",
        "colab_type": "code",
        "colab": {
          "base_uri": "https://localhost:8080/",
          "height": 265
        },
        "outputId": "9eab9de4-437c-492a-ddf5-37f4e1f990b0"
      },
      "source": [
        "plt.scatter(x, y,  color='gray')\n",
        "plt.plot(x,y_hat , color='red', linewidth=2)\n",
        "plt.show()"
      ],
      "execution_count": 7,
      "outputs": [
        {
          "output_type": "display_data",
          "data": {
            "image/png": "[encoded data removed]",
            "text/plain": [
              "<Figure size 432x288 with 1 Axes>"
            ]
          },
          "metadata": {
            "tags": [],
            "needs_background": "light"
          }
        }
      ]
    },
    {
      "cell_type": "code",
      "metadata": {
        "id": "1W-wP0Bk0Q_j",
        "colab_type": "code",
        "colab": {}
      },
      "source": [
        ""
      ],
      "execution_count": 0,
      "outputs": []
    }
  ]
}